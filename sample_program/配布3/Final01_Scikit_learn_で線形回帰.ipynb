{
  "nbformat": 4,
  "nbformat_minor": 0,
  "metadata": {
    "colab": {
      "name": "Scikit-learn で線形回帰.ipynb",
      "provenance": []
    },
    "kernelspec": {
      "name": "python3",
      "display_name": "Python 3"
    }
  },
  "cells": [
    {
      "cell_type": "markdown",
      "metadata": {
        "id": "enQpyshCPk95",
        "colab_type": "text"
      },
      "source": [
        "<h1><h1>\n",
        "Scikit-learn で住宅価格予測（線形回帰）</h1></h1><br>\n",
        "\n",
        "売り上げなどの数量（連続値をとる目的変数）を予測するのに役立つのが回帰です。特に目的変数と説明変数の関係をモデル化する一つの方法である線形回帰をScikit-learnライブラリを使って行う方法について説明、実践していきます\n",
        "\n",
        "今回は、ボストンの住宅価格の予測を行います。"
      ]
    },
    {
      "cell_type": "markdown",
      "metadata": {
        "id": "MtO9BEnAP5Vy",
        "colab_type": "text"
      },
      "source": [
        "<hr>\n",
        "<h1>\n",
        "<span id=\"scikit-learn-について\" class=\"fragment\"></span>Scikit-learn について</h1>\n",
        "\n",
        "<p>Scikit-learnは、Pythonの機械学習ライブラリの一つです。</p>\n",
        "\n",
        "<ul>\n",
        "<li>公式ドキュメント：<a href=\"http://scikit-learn.org/stable/index.html\" class=\"autolink\" rel=\"nofollow noopener\" target=\"_blank\">http://scikit-learn.org/stable/index.html</a>\n",
        "</li>\n",
        "</ul>"
      ]
    },
    {
      "cell_type": "markdown",
      "metadata": {
        "id": "WH3hH4CNQCpU",
        "colab_type": "text"
      },
      "source": [
        "<hr><h1>\n",
        "<span id=\"線形回帰について\" class=\"fragment\"></span>線形回帰について</h1>\n",
        "\n",
        "<p>線形回帰は、連続値をとる目的変数 $y$ と説明変数 $x$（特徴量）の線形関係をモデル化します。線形関係とは、平たく言うと、説明変数が増加（減少）するのに応じて、目的変数も単調に増加（減少）する関係です。説明変数が一つの場合（単回帰と呼ぶ）、目的変数と説明変数の関係をモデル化する線形モデルは以下の式で定義されます。</p>\n",
        "<br>\n",
        "<div class=\"code-frame\" data-lang=\"math\"><div class=\"highlight\">$y = w_0 + w_1x$\n",
        "</div></div>\n",
        "<br>\n",
        "<p>ここで、重み $w_0$ は切片、重み $w_1$ は説明変数の係数を表します。線形回帰の目的は、説明変数と目的変数の関係を表現する線形モデルの重みを学習することです。上の式のように、目的変数が説明変数の一次式で表現されるとき、線形回帰は「説明変数と目的変数の散布図において、データの分布を最もよく特徴づける直線を探し出すこと」といえます。</p>\n",
        "\n",
        "<p>説明変数が複数の場合（重回帰と呼ぶ）、目的変数を説明変数の線形和で表現する線形モデルは以下の式で定義されます。</p>\n",
        "<br>\n",
        "<div class=\"code-frame\" data-lang=\"math\"><div class=\"highlight\">$y = w_0x_0 + w_1x_1 + \\cdots +w_mx_m = \\sum^m_{i=0}w_ix_i\n",
        "$</div></div>\n",
        "<br>\n",
        "<p>ここで、重み $w_0$ は $x_0=1$ として切片を表します。重回帰は、単回帰を複数の説明変数を扱扱えるように一般化したものであり、目的変数と複数の説明変数の関係を表すモデルの重みを学習することが目的です。</p>\n"
      ]
    },
    {
      "cell_type": "markdown",
      "metadata": {
        "id": "ytHW3iMVQMmn",
        "colab_type": "text"
      },
      "source": [
        ""
      ]
    },
    {
      "cell_type": "markdown",
      "metadata": {
        "id": "gZI4g3NeVilk",
        "colab_type": "text"
      },
      "source": [
        "<hr><h1>\n",
        "<span id=\"線形回帰モデル\" class=\"fragment\"></span><a href=\"#%E7%B7%9A%E5%BD%A2%E5%9B%9E%E5%B8%B0%E3%83%A2%E3%83%87%E3%83%AB\"><i class=\"fa fa-link\"></i></a>線形回帰モデル</h1>\n",
        "\n",
        "<p>scikit-learnで線形回帰をするには、linear_modelのLinearRegressionモデル（公式ドキュメント：<a href=\"http://scikit-learn.org/stable/modules/generated/sklearn.linear_model.LinearRegression.html\" class=\"autolink\" rel=\"nofollow noopener\" target=\"_blank\">http://scikit-learn.org/stable/modules/generated/sklearn.linear_model.LinearRegression.html</a> ）を使います。主に利用するメソッドは以下の通りです。</p>\n",
        "\n",
        "<ul>\n",
        "<li>fitメソッド：線形モデルの重みを学習</li>\n",
        "<li>predictメソッド：線形モデルから目的変数を予測</li>\n",
        "<li>scoreメソッド：決定係数（線形モデルがどの程度目的変数を説明できるか）を出力</li>\n",
        "</ul>\n",
        "\n",
        "<p>ここでは、UCI Machine Learning Repository (<a href=\"http://archive.ics.uci.edu/ml/index.php\" class=\"autolink\" rel=\"nofollow noopener\" target=\"_blank\">http://archive.ics.uci.edu/ml/index.php</a>) で公開されている、ボストン市郊外の地域別住宅価格（<a href=\"https://archive.ics.uci.edu/ml/machine-learning-databases/housing/\" class=\"autolink\" rel=\"nofollow noopener\" target=\"_blank\">https://archive.ics.uci.edu/ml/machine-learning-databases/housing/</a> ）を使います。以下のコードでは、scikit-learnライブラリに付属のデータセットを読み込み、PandasのDataFrameに変換しています。</p>\n"
      ]
    },
    {
      "cell_type": "code",
      "metadata": {
        "id": "vcLD5cWwOscV",
        "colab_type": "code",
        "colab": {
          "base_uri": "https://localhost:8080/",
          "height": 204
        },
        "outputId": "aabfe553-6ece-4e87-e792-39ac6a987757"
      },
      "source": [
        "import pandas as pd\n",
        "import numpy as np\n",
        "import matplotlib.pyplot as plt\n",
        "from sklearn import datasets\n",
        "%matplotlib inline\n",
        "\n",
        "boston = datasets.load_boston()\n",
        "X = boston.data\n",
        "y = boston.target\n",
        "df_X = pd.DataFrame(X)\n",
        "df_y = pd.DataFrame(y)\n",
        "df_X.columns = boston.feature_names\n",
        "df_y.columns = [\"target\"]\n",
        "\n",
        "df_X.head()\n",
        "\n",
        "df_y.head()\n",
        "\n",
        "df = pd.concat([df_X, df_y], axis = 1)\n",
        "df.head()"
      ],
      "execution_count": 4,
      "outputs": [
        {
          "output_type": "execute_result",
          "data": {
            "text/html": [
              "<div>\n",
              "<style scoped>\n",
              "    .dataframe tbody tr th:only-of-type {\n",
              "        vertical-align: middle;\n",
              "    }\n",
              "\n",
              "    .dataframe tbody tr th {\n",
              "        vertical-align: top;\n",
              "    }\n",
              "\n",
              "    .dataframe thead th {\n",
              "        text-align: right;\n",
              "    }\n",
              "</style>\n",
              "<table border=\"1\" class=\"dataframe\">\n",
              "  <thead>\n",
              "    <tr style=\"text-align: right;\">\n",
              "      <th></th>\n",
              "      <th>CRIM</th>\n",
              "      <th>ZN</th>\n",
              "      <th>INDUS</th>\n",
              "      <th>CHAS</th>\n",
              "      <th>NOX</th>\n",
              "      <th>RM</th>\n",
              "      <th>AGE</th>\n",
              "      <th>DIS</th>\n",
              "      <th>RAD</th>\n",
              "      <th>TAX</th>\n",
              "      <th>PTRATIO</th>\n",
              "      <th>B</th>\n",
              "      <th>LSTAT</th>\n",
              "      <th>target</th>\n",
              "    </tr>\n",
              "  </thead>\n",
              "  <tbody>\n",
              "    <tr>\n",
              "      <th>0</th>\n",
              "      <td>0.00632</td>\n",
              "      <td>18.0</td>\n",
              "      <td>2.31</td>\n",
              "      <td>0.0</td>\n",
              "      <td>0.538</td>\n",
              "      <td>6.575</td>\n",
              "      <td>65.2</td>\n",
              "      <td>4.0900</td>\n",
              "      <td>1.0</td>\n",
              "      <td>296.0</td>\n",
              "      <td>15.3</td>\n",
              "      <td>396.90</td>\n",
              "      <td>4.98</td>\n",
              "      <td>24.0</td>\n",
              "    </tr>\n",
              "    <tr>\n",
              "      <th>1</th>\n",
              "      <td>0.02731</td>\n",
              "      <td>0.0</td>\n",
              "      <td>7.07</td>\n",
              "      <td>0.0</td>\n",
              "      <td>0.469</td>\n",
              "      <td>6.421</td>\n",
              "      <td>78.9</td>\n",
              "      <td>4.9671</td>\n",
              "      <td>2.0</td>\n",
              "      <td>242.0</td>\n",
              "      <td>17.8</td>\n",
              "      <td>396.90</td>\n",
              "      <td>9.14</td>\n",
              "      <td>21.6</td>\n",
              "    </tr>\n",
              "    <tr>\n",
              "      <th>2</th>\n",
              "      <td>0.02729</td>\n",
              "      <td>0.0</td>\n",
              "      <td>7.07</td>\n",
              "      <td>0.0</td>\n",
              "      <td>0.469</td>\n",
              "      <td>7.185</td>\n",
              "      <td>61.1</td>\n",
              "      <td>4.9671</td>\n",
              "      <td>2.0</td>\n",
              "      <td>242.0</td>\n",
              "      <td>17.8</td>\n",
              "      <td>392.83</td>\n",
              "      <td>4.03</td>\n",
              "      <td>34.7</td>\n",
              "    </tr>\n",
              "    <tr>\n",
              "      <th>3</th>\n",
              "      <td>0.03237</td>\n",
              "      <td>0.0</td>\n",
              "      <td>2.18</td>\n",
              "      <td>0.0</td>\n",
              "      <td>0.458</td>\n",
              "      <td>6.998</td>\n",
              "      <td>45.8</td>\n",
              "      <td>6.0622</td>\n",
              "      <td>3.0</td>\n",
              "      <td>222.0</td>\n",
              "      <td>18.7</td>\n",
              "      <td>394.63</td>\n",
              "      <td>2.94</td>\n",
              "      <td>33.4</td>\n",
              "    </tr>\n",
              "    <tr>\n",
              "      <th>4</th>\n",
              "      <td>0.06905</td>\n",
              "      <td>0.0</td>\n",
              "      <td>2.18</td>\n",
              "      <td>0.0</td>\n",
              "      <td>0.458</td>\n",
              "      <td>7.147</td>\n",
              "      <td>54.2</td>\n",
              "      <td>6.0622</td>\n",
              "      <td>3.0</td>\n",
              "      <td>222.0</td>\n",
              "      <td>18.7</td>\n",
              "      <td>396.90</td>\n",
              "      <td>5.33</td>\n",
              "      <td>36.2</td>\n",
              "    </tr>\n",
              "  </tbody>\n",
              "</table>\n",
              "</div>"
            ],
            "text/plain": [
              "      CRIM    ZN  INDUS  CHAS    NOX  ...    TAX  PTRATIO       B  LSTAT  target\n",
              "0  0.00632  18.0   2.31   0.0  0.538  ...  296.0     15.3  396.90   4.98    24.0\n",
              "1  0.02731   0.0   7.07   0.0  0.469  ...  242.0     17.8  396.90   9.14    21.6\n",
              "2  0.02729   0.0   7.07   0.0  0.469  ...  242.0     17.8  392.83   4.03    34.7\n",
              "3  0.03237   0.0   2.18   0.0  0.458  ...  222.0     18.7  394.63   2.94    33.4\n",
              "4  0.06905   0.0   2.18   0.0  0.458  ...  222.0     18.7  396.90   5.33    36.2\n",
              "\n",
              "[5 rows x 14 columns]"
            ]
          },
          "metadata": {
            "tags": []
          },
          "execution_count": 4
        }
      ]
    },
    {
      "cell_type": "markdown",
      "metadata": {
        "id": "2EtsA5i1jE7m",
        "colab_type": "text"
      },
      "source": [
        "<h3>相関係数の確認</h3>\n",
        "RM（平均部屋数）とtarget（住宅価格）の関係を見てみると、約0.7ほど相関がある、つまり平均部屋数が多いほど住宅価格も高いように見える。\n",
        "また、RSTAT（低所得者の割合）とtarget（住宅価格）の関係を見てみると、-0.74の相関がある。これにより、低所得者の割合が多いほど住宅価格も低くなることが考えられる。"
      ]
    },
    {
      "cell_type": "code",
      "metadata": {
        "id": "P453jCGQh37r",
        "colab_type": "code",
        "colab": {
          "base_uri": "https://localhost:8080/",
          "height": 483
        },
        "outputId": "a2845713-3d7c-4a91-9643-3f9a223f1621"
      },
      "source": [
        "#相関係数の確認\n",
        "\n",
        "corr = df.corr()\n",
        "corr"
      ],
      "execution_count": 5,
      "outputs": [
        {
          "output_type": "execute_result",
          "data": {
            "text/html": [
              "<div>\n",
              "<style scoped>\n",
              "    .dataframe tbody tr th:only-of-type {\n",
              "        vertical-align: middle;\n",
              "    }\n",
              "\n",
              "    .dataframe tbody tr th {\n",
              "        vertical-align: top;\n",
              "    }\n",
              "\n",
              "    .dataframe thead th {\n",
              "        text-align: right;\n",
              "    }\n",
              "</style>\n",
              "<table border=\"1\" class=\"dataframe\">\n",
              "  <thead>\n",
              "    <tr style=\"text-align: right;\">\n",
              "      <th></th>\n",
              "      <th>CRIM</th>\n",
              "      <th>ZN</th>\n",
              "      <th>INDUS</th>\n",
              "      <th>CHAS</th>\n",
              "      <th>NOX</th>\n",
              "      <th>RM</th>\n",
              "      <th>AGE</th>\n",
              "      <th>DIS</th>\n",
              "      <th>RAD</th>\n",
              "      <th>TAX</th>\n",
              "      <th>PTRATIO</th>\n",
              "      <th>B</th>\n",
              "      <th>LSTAT</th>\n",
              "      <th>target</th>\n",
              "    </tr>\n",
              "  </thead>\n",
              "  <tbody>\n",
              "    <tr>\n",
              "      <th>CRIM</th>\n",
              "      <td>1.000000</td>\n",
              "      <td>-0.200469</td>\n",
              "      <td>0.406583</td>\n",
              "      <td>-0.055892</td>\n",
              "      <td>0.420972</td>\n",
              "      <td>-0.219247</td>\n",
              "      <td>0.352734</td>\n",
              "      <td>-0.379670</td>\n",
              "      <td>0.625505</td>\n",
              "      <td>0.582764</td>\n",
              "      <td>0.289946</td>\n",
              "      <td>-0.385064</td>\n",
              "      <td>0.455621</td>\n",
              "      <td>-0.388305</td>\n",
              "    </tr>\n",
              "    <tr>\n",
              "      <th>ZN</th>\n",
              "      <td>-0.200469</td>\n",
              "      <td>1.000000</td>\n",
              "      <td>-0.533828</td>\n",
              "      <td>-0.042697</td>\n",
              "      <td>-0.516604</td>\n",
              "      <td>0.311991</td>\n",
              "      <td>-0.569537</td>\n",
              "      <td>0.664408</td>\n",
              "      <td>-0.311948</td>\n",
              "      <td>-0.314563</td>\n",
              "      <td>-0.391679</td>\n",
              "      <td>0.175520</td>\n",
              "      <td>-0.412995</td>\n",
              "      <td>0.360445</td>\n",
              "    </tr>\n",
              "    <tr>\n",
              "      <th>INDUS</th>\n",
              "      <td>0.406583</td>\n",
              "      <td>-0.533828</td>\n",
              "      <td>1.000000</td>\n",
              "      <td>0.062938</td>\n",
              "      <td>0.763651</td>\n",
              "      <td>-0.391676</td>\n",
              "      <td>0.644779</td>\n",
              "      <td>-0.708027</td>\n",
              "      <td>0.595129</td>\n",
              "      <td>0.720760</td>\n",
              "      <td>0.383248</td>\n",
              "      <td>-0.356977</td>\n",
              "      <td>0.603800</td>\n",
              "      <td>-0.483725</td>\n",
              "    </tr>\n",
              "    <tr>\n",
              "      <th>CHAS</th>\n",
              "      <td>-0.055892</td>\n",
              "      <td>-0.042697</td>\n",
              "      <td>0.062938</td>\n",
              "      <td>1.000000</td>\n",
              "      <td>0.091203</td>\n",
              "      <td>0.091251</td>\n",
              "      <td>0.086518</td>\n",
              "      <td>-0.099176</td>\n",
              "      <td>-0.007368</td>\n",
              "      <td>-0.035587</td>\n",
              "      <td>-0.121515</td>\n",
              "      <td>0.048788</td>\n",
              "      <td>-0.053929</td>\n",
              "      <td>0.175260</td>\n",
              "    </tr>\n",
              "    <tr>\n",
              "      <th>NOX</th>\n",
              "      <td>0.420972</td>\n",
              "      <td>-0.516604</td>\n",
              "      <td>0.763651</td>\n",
              "      <td>0.091203</td>\n",
              "      <td>1.000000</td>\n",
              "      <td>-0.302188</td>\n",
              "      <td>0.731470</td>\n",
              "      <td>-0.769230</td>\n",
              "      <td>0.611441</td>\n",
              "      <td>0.668023</td>\n",
              "      <td>0.188933</td>\n",
              "      <td>-0.380051</td>\n",
              "      <td>0.590879</td>\n",
              "      <td>-0.427321</td>\n",
              "    </tr>\n",
              "    <tr>\n",
              "      <th>RM</th>\n",
              "      <td>-0.219247</td>\n",
              "      <td>0.311991</td>\n",
              "      <td>-0.391676</td>\n",
              "      <td>0.091251</td>\n",
              "      <td>-0.302188</td>\n",
              "      <td>1.000000</td>\n",
              "      <td>-0.240265</td>\n",
              "      <td>0.205246</td>\n",
              "      <td>-0.209847</td>\n",
              "      <td>-0.292048</td>\n",
              "      <td>-0.355501</td>\n",
              "      <td>0.128069</td>\n",
              "      <td>-0.613808</td>\n",
              "      <td>0.695360</td>\n",
              "    </tr>\n",
              "    <tr>\n",
              "      <th>AGE</th>\n",
              "      <td>0.352734</td>\n",
              "      <td>-0.569537</td>\n",
              "      <td>0.644779</td>\n",
              "      <td>0.086518</td>\n",
              "      <td>0.731470</td>\n",
              "      <td>-0.240265</td>\n",
              "      <td>1.000000</td>\n",
              "      <td>-0.747881</td>\n",
              "      <td>0.456022</td>\n",
              "      <td>0.506456</td>\n",
              "      <td>0.261515</td>\n",
              "      <td>-0.273534</td>\n",
              "      <td>0.602339</td>\n",
              "      <td>-0.376955</td>\n",
              "    </tr>\n",
              "    <tr>\n",
              "      <th>DIS</th>\n",
              "      <td>-0.379670</td>\n",
              "      <td>0.664408</td>\n",
              "      <td>-0.708027</td>\n",
              "      <td>-0.099176</td>\n",
              "      <td>-0.769230</td>\n",
              "      <td>0.205246</td>\n",
              "      <td>-0.747881</td>\n",
              "      <td>1.000000</td>\n",
              "      <td>-0.494588</td>\n",
              "      <td>-0.534432</td>\n",
              "      <td>-0.232471</td>\n",
              "      <td>0.291512</td>\n",
              "      <td>-0.496996</td>\n",
              "      <td>0.249929</td>\n",
              "    </tr>\n",
              "    <tr>\n",
              "      <th>RAD</th>\n",
              "      <td>0.625505</td>\n",
              "      <td>-0.311948</td>\n",
              "      <td>0.595129</td>\n",
              "      <td>-0.007368</td>\n",
              "      <td>0.611441</td>\n",
              "      <td>-0.209847</td>\n",
              "      <td>0.456022</td>\n",
              "      <td>-0.494588</td>\n",
              "      <td>1.000000</td>\n",
              "      <td>0.910228</td>\n",
              "      <td>0.464741</td>\n",
              "      <td>-0.444413</td>\n",
              "      <td>0.488676</td>\n",
              "      <td>-0.381626</td>\n",
              "    </tr>\n",
              "    <tr>\n",
              "      <th>TAX</th>\n",
              "      <td>0.582764</td>\n",
              "      <td>-0.314563</td>\n",
              "      <td>0.720760</td>\n",
              "      <td>-0.035587</td>\n",
              "      <td>0.668023</td>\n",
              "      <td>-0.292048</td>\n",
              "      <td>0.506456</td>\n",
              "      <td>-0.534432</td>\n",
              "      <td>0.910228</td>\n",
              "      <td>1.000000</td>\n",
              "      <td>0.460853</td>\n",
              "      <td>-0.441808</td>\n",
              "      <td>0.543993</td>\n",
              "      <td>-0.468536</td>\n",
              "    </tr>\n",
              "    <tr>\n",
              "      <th>PTRATIO</th>\n",
              "      <td>0.289946</td>\n",
              "      <td>-0.391679</td>\n",
              "      <td>0.383248</td>\n",
              "      <td>-0.121515</td>\n",
              "      <td>0.188933</td>\n",
              "      <td>-0.355501</td>\n",
              "      <td>0.261515</td>\n",
              "      <td>-0.232471</td>\n",
              "      <td>0.464741</td>\n",
              "      <td>0.460853</td>\n",
              "      <td>1.000000</td>\n",
              "      <td>-0.177383</td>\n",
              "      <td>0.374044</td>\n",
              "      <td>-0.507787</td>\n",
              "    </tr>\n",
              "    <tr>\n",
              "      <th>B</th>\n",
              "      <td>-0.385064</td>\n",
              "      <td>0.175520</td>\n",
              "      <td>-0.356977</td>\n",
              "      <td>0.048788</td>\n",
              "      <td>-0.380051</td>\n",
              "      <td>0.128069</td>\n",
              "      <td>-0.273534</td>\n",
              "      <td>0.291512</td>\n",
              "      <td>-0.444413</td>\n",
              "      <td>-0.441808</td>\n",
              "      <td>-0.177383</td>\n",
              "      <td>1.000000</td>\n",
              "      <td>-0.366087</td>\n",
              "      <td>0.333461</td>\n",
              "    </tr>\n",
              "    <tr>\n",
              "      <th>LSTAT</th>\n",
              "      <td>0.455621</td>\n",
              "      <td>-0.412995</td>\n",
              "      <td>0.603800</td>\n",
              "      <td>-0.053929</td>\n",
              "      <td>0.590879</td>\n",
              "      <td>-0.613808</td>\n",
              "      <td>0.602339</td>\n",
              "      <td>-0.496996</td>\n",
              "      <td>0.488676</td>\n",
              "      <td>0.543993</td>\n",
              "      <td>0.374044</td>\n",
              "      <td>-0.366087</td>\n",
              "      <td>1.000000</td>\n",
              "      <td>-0.737663</td>\n",
              "    </tr>\n",
              "    <tr>\n",
              "      <th>target</th>\n",
              "      <td>-0.388305</td>\n",
              "      <td>0.360445</td>\n",
              "      <td>-0.483725</td>\n",
              "      <td>0.175260</td>\n",
              "      <td>-0.427321</td>\n",
              "      <td>0.695360</td>\n",
              "      <td>-0.376955</td>\n",
              "      <td>0.249929</td>\n",
              "      <td>-0.381626</td>\n",
              "      <td>-0.468536</td>\n",
              "      <td>-0.507787</td>\n",
              "      <td>0.333461</td>\n",
              "      <td>-0.737663</td>\n",
              "      <td>1.000000</td>\n",
              "    </tr>\n",
              "  </tbody>\n",
              "</table>\n",
              "</div>"
            ],
            "text/plain": [
              "             CRIM        ZN     INDUS  ...         B     LSTAT    target\n",
              "CRIM     1.000000 -0.200469  0.406583  ... -0.385064  0.455621 -0.388305\n",
              "ZN      -0.200469  1.000000 -0.533828  ...  0.175520 -0.412995  0.360445\n",
              "INDUS    0.406583 -0.533828  1.000000  ... -0.356977  0.603800 -0.483725\n",
              "CHAS    -0.055892 -0.042697  0.062938  ...  0.048788 -0.053929  0.175260\n",
              "NOX      0.420972 -0.516604  0.763651  ... -0.380051  0.590879 -0.427321\n",
              "RM      -0.219247  0.311991 -0.391676  ...  0.128069 -0.613808  0.695360\n",
              "AGE      0.352734 -0.569537  0.644779  ... -0.273534  0.602339 -0.376955\n",
              "DIS     -0.379670  0.664408 -0.708027  ...  0.291512 -0.496996  0.249929\n",
              "RAD      0.625505 -0.311948  0.595129  ... -0.444413  0.488676 -0.381626\n",
              "TAX      0.582764 -0.314563  0.720760  ... -0.441808  0.543993 -0.468536\n",
              "PTRATIO  0.289946 -0.391679  0.383248  ... -0.177383  0.374044 -0.507787\n",
              "B       -0.385064  0.175520 -0.356977  ...  1.000000 -0.366087  0.333461\n",
              "LSTAT    0.455621 -0.412995  0.603800  ... -0.366087  1.000000 -0.737663\n",
              "target  -0.388305  0.360445 -0.483725  ...  0.333461 -0.737663  1.000000\n",
              "\n",
              "[14 rows x 14 columns]"
            ]
          },
          "metadata": {
            "tags": []
          },
          "execution_count": 5
        }
      ]
    },
    {
      "cell_type": "markdown",
      "metadata": {
        "id": "LesO9M4cV20B",
        "colab_type": "text"
      },
      "source": [
        "<p>各変数（データ項目）の説明は以下の通りです。</p>\n",
        "<td align=\"left\">\n",
        "<table>\n",
        "<thead>\n",
        "<tr>\n",
        "<th style=\"text-align: left\">変数</th>\n",
        "<th style=\"text-align: left\">説明</th>\n",
        "</tr>\n",
        "</thead>\n",
        "<tbody>\n",
        "<tr>\n",
        "<td style=\"text-align: left\">CRIM</td>\n",
        "<td style=\"text-align: left\">犯罪発生率</td>\n",
        "</tr>\n",
        "<tr>\n",
        "<td style=\"text-align: left\">ZN</td>\n",
        "<td style=\"text-align: left\">25,000平方フィート以上の住宅区画の割合</td>\n",
        "</tr>\n",
        "<tr>\n",
        "<td style=\"text-align: left\">INDUS</td>\n",
        "<td style=\"text-align: left\">非小売業種の土地面積の割合</td>\n",
        "</tr>\n",
        "<tr>\n",
        "<td style=\"text-align: left\">CHAS</td>\n",
        "<td style=\"text-align: left\">チャールズ川沿いかを表すダミー変数</td>\n",
        "</tr>\n",
        "<tr>\n",
        "<td style=\"text-align: left\">NOX</td>\n",
        "<td style=\"text-align: left\">窒素酸化物の濃度</td>\n",
        "</tr>\n",
        "<tr>\n",
        "<td style=\"text-align: left\">RM</td>\n",
        "<td style=\"text-align: left\">平均部屋数</td>\n",
        "</tr>\n",
        "<tr>\n",
        "<td style=\"text-align: left\">AGE</td>\n",
        "<td style=\"text-align: left\">1940年より前に建てられた建物の割合</td>\n",
        "</tr>\n",
        "<tr>\n",
        "<td style=\"text-align: left\">DIS</td>\n",
        "<td style=\"text-align: left\">5つのボストンの雇用施設への重み付き距離</td>\n",
        "</tr>\n",
        "<tr>\n",
        "<td style=\"text-align: left\">RAD</td>\n",
        "<td style=\"text-align: left\">高速道路へのアクセスのしやすさ</td>\n",
        "</tr>\n",
        "<tr>\n",
        "<td style=\"text-align: left\">TAX</td>\n",
        "<td style=\"text-align: left\">10,000ドルあたりの不動産税率</td>\n",
        "</tr>\n",
        "<tr>\n",
        "<td style=\"text-align: left\">PTRATIO</td>\n",
        "<td style=\"text-align: left\">生徒と教師の割合</td>\n",
        "</tr>\n",
        "<tr>\n",
        "<td style=\"text-align: left\">B</td>\n",
        "<td style=\"text-align: left\">黒人の割合</td>\n",
        "</tr>\n",
        "<tr>\n",
        "<td style=\"text-align: left\">LSTAT</td>\n",
        "<td style=\"text-align: left\">低所得者の割合</td>\n",
        "</tr>\n",
        "<tr>\n",
        "<td style=\"text-align: left\">target</td>\n",
        "<td style=\"text-align: left\">住宅価格の中央値（1,000単位）</td>\n",
        "</tr>\n",
        "</tbody>\n",
        "</table>\n",
        "</td>\n",
        "<img data-v-fa2b8430=\"\" src=\"https://aiacademy.jp/assets/upload/chapter_000092_D3ca5tgPVmAV.png\">"
      ]
    },
    {
      "cell_type": "markdown",
      "metadata": {
        "id": "647wcWkPkEgT",
        "colab_type": "text"
      },
      "source": [
        "<hr><h1>\n",
        "<span id=\"線形回帰(単回帰)モデルの構築\" class=\"fragment\"></span>線形回帰(単回帰)モデルの構築</h1>\n",
        "\n",
        "目的変数との相関が大きい説明変数は目的変数の予測に役立つ変数であると言えるので、この\"LSTAT\"を使って単回帰を行う。この時の相関とは正か負は関係なく相関があれがその変数から予想ができることになる。<br>\n",
        "また、単回帰とは一つの説明変数から目的変数を予測することを指す。"
      ]
    },
    {
      "cell_type": "markdown",
      "metadata": {
        "id": "Z6OHKadmntQj",
        "colab_type": "text"
      },
      "source": [
        "<h3>・データの確認</h3>"
      ]
    },
    {
      "cell_type": "code",
      "metadata": {
        "id": "ysWcp1yelx-p",
        "colab_type": "code",
        "colab": {
          "base_uri": "https://localhost:8080/",
          "height": 333
        },
        "outputId": "c3d11c7f-05cd-4348-e9fd-e1c652884c32"
      },
      "source": [
        "#　LSTSTデータの確認\n",
        "lstat = df_X.loc[:,\"LSTAT\"]\n",
        "\n",
        "print(\"変換前のデータ型は\", type(lstat))\n",
        "print(\"変換前の配列の大きさは\", lstat.shape)\n",
        "lstat = lstat.values #.valuesはメソッド（関数）ではなく、属性（プロパティ）の1種で、()は不要です。属性には他にも.indexや.columnsなどがあります。\n",
        "lstat = lstat.reshape(-1,1)\n",
        "print(\"変換後のデータ型は\", type(lstat))\n",
        "print(\"変換後の配列の大きさは\", lstat.shape)\n",
        "\n",
        "plt.scatter(lstat, y)\n",
        "plt.show()"
      ],
      "execution_count": 19,
      "outputs": [
        {
          "output_type": "stream",
          "text": [
            "変換前のデータ型は <class 'pandas.core.series.Series'>\n",
            "変換前の配列の大きさは (506,)\n",
            "変換後のデータ型は <class 'numpy.ndarray'>\n",
            "変換後の配列の大きさは (506, 1)\n"
          ],
          "name": "stdout"
        },
        {
          "output_type": "display_data",
          "data": {
            "image/png": "[encoded data removed]",
            "text/plain": [
              "<Figure size 432x288 with 1 Axes>"
            ]
          },
          "metadata": {
            "tags": [],
            "needs_background": "light"
          }
        }
      ]
    },
    {
      "cell_type": "markdown",
      "metadata": {
        "id": "a-l3S_kbnxtU",
        "colab_type": "text"
      },
      "source": [
        "<h3>・単回帰の学習</h3>"
      ]
    },
    {
      "cell_type": "code",
      "metadata": {
        "id": "6qwiOIekmG10",
        "colab_type": "code",
        "colab": {
          "base_uri": "https://localhost:8080/",
          "height": 295
        },
        "outputId": "2710091d-031c-4af0-9a7e-cb6ac2590148"
      },
      "source": [
        "from sklearn.model_selection import train_test_split\n",
        "from sklearn.linear_model import LinearRegression\n",
        "\n",
        "# トレーニングデータとテストデータに分割\n",
        "X_train, X_test, y_train, y_test = train_test_split(lstat, y, test_size=0.3, random_state=0)\n",
        "\n",
        "# 学習するモデルの選択\n",
        "lr = LinearRegression() #線形モデル\n",
        "\n",
        "lr.fit(X_train, y_train) #モデルの学習\n",
        "\n",
        "#結果の表示\n",
        "plt.scatter(lstat, y)                       \n",
        "plt.plot(X_test, lr.predict(X_test), color='red') \n",
        "plt.title('boston_housing')     \n",
        "plt.xlabel('LSTAT')               \n",
        "plt.ylabel('target')                 \n",
        "plt.show()\n"
      ],
      "execution_count": 20,
      "outputs": [
        {
          "output_type": "display_data",
          "data": {
            "image/png": "[encoded data removed]",
            "text/plain": [
              "<Figure size 432x288 with 1 Axes>"
            ]
          },
          "metadata": {
            "tags": [],
            "needs_background": "light"
          }
        }
      ]
    },
    {
      "cell_type": "markdown",
      "metadata": {
        "id": "0TRA3Z3lnOwK",
        "colab_type": "text"
      },
      "source": [
        "この直線が求まったことにより、LSTATの値がわかればtargetの値を予測することができる"
      ]
    },
    {
      "cell_type": "markdown",
      "metadata": {
        "id": "eVHoEnGenhlc",
        "colab_type": "text"
      },
      "source": [
        "<h3>・データの分割による性能評価と単回帰の評価</h3>\n",
        "乗平均平方根誤差(Root Mean Squared Error/RMSE)および、決定係数(Coefficient of Determination)という評価指標にて予測モデルの評価を行う。\n",
        "決定係数は、数式ではR^2(Rの2乗)と表す。"
      ]
    },
    {
      "cell_type": "code",
      "metadata": {
        "id": "A01L-WR1nOCt",
        "colab_type": "code",
        "colab": {
          "base_uri": "https://localhost:8080/",
          "height": 51
        },
        "outputId": "645fc0c0-fe54-44de-a20b-fca883f91fa7"
      },
      "source": [
        "y_train_pred = lr.predict(X_train)\n",
        "y_test_pred = lr.predict(X_test)\n",
        "\n",
        "# 性能評価\n",
        "from math import sqrt\n",
        "from sklearn.metrics import mean_squared_error\n",
        "# 二乗平均平方根誤差(RMSE)を算出\n",
        "print('RMSE Test :' + str((sqrt(mean_squared_error(y_test, y_test_pred)))))\n",
        "# 学習用、検証用データに関してR^2を出力 (回帰モデルの場合score()を使うことで決定係数が得られます。)\n",
        "print('R^2 Train : %.3f, Test : %.3f' % (lr.score(X_train, y_train), lr.score(X_test, y_test)))"
      ],
      "execution_count": 21,
      "outputs": [
        {
          "output_type": "stream",
          "text": [
            "RMSE Test :6.310083240714354\n",
            "R^2 Train : 0.552, Test : 0.522\n"
          ],
          "name": "stdout"
        }
      ]
    },
    {
      "cell_type": "markdown",
      "metadata": {
        "id": "ZHy0A6seoUn5",
        "colab_type": "text"
      },
      "source": [
        "決定係数は、0~1の範囲の値をとり、1に近いほど理想的なモデルといえます。\n",
        "またRMSEは、予測と正解の平均的なズレを表しており、平均的に約6.3のズレがあることを示します。"
      ]
    },
    {
      "cell_type": "markdown",
      "metadata": {
        "id": "UjdEmzzdwaou",
        "colab_type": "text"
      },
      "source": [
        "<h3>・残差プロット</h3>\n",
        "残差プロットは、残差（目的変数の真値と予測値の差分）の分布を可視化したものです。線形モデルが目的変数を完璧に予測できる場合は残差は0となるので、予測精度の良い線形モデルの残差プロットは、0を中心にランダムにばらついたものになります。残差プロットに何かパターンが見られる場合は、線形モデルで説明しきれない情報があることが示唆されます。"
      ]
    },
    {
      "cell_type": "code",
      "metadata": {
        "id": "MZuHHYCcwEm6",
        "colab_type": "code",
        "colab": {
          "base_uri": "https://localhost:8080/",
          "height": 295
        },
        "outputId": "6e7eeee2-e2a8-4b85-a751-a86822002c21"
      },
      "source": [
        "y_pred = lr.predict(X_test) # 検証データを用いて目的変数を予測\n",
        "\n",
        "plt.scatter(y_pred, y_pred - y_test, color = 'blue')      # 残差をプロット \n",
        "plt.hlines(y = 0, xmin = -10, xmax = 50, color = 'black') # x軸に沿った直線をプロット\n",
        "plt.title('Residual Plot')                                # 図のタイトル\n",
        "plt.xlabel('Predicted Values')                            # x軸のラベル\n",
        "plt.ylabel('Residuals')                                   # y軸のラベル\n",
        "plt.grid()                                                # グリッド線を表示\n",
        "\n",
        "plt.show()                                               # 図の表示"
      ],
      "execution_count": 23,
      "outputs": [
        {
          "output_type": "display_data",
          "data": {
            "image/png": "[encoded data removed]",
            "text/plain": [
              "<Figure size 432x288 with 1 Axes>"
            ]
          },
          "metadata": {
            "tags": [],
            "needs_background": "light"
          }
        }
      ]
    },
    {
      "cell_type": "markdown",
      "metadata": {
        "id": "15Xny7d7ok4X",
        "colab_type": "text"
      },
      "source": [
        "<hr><h1>\n",
        "<span id=\"線形回帰(単回帰)モデルの構築\" class=\"fragment\"></span>線形回帰(重回帰)モデルの構築</h1>\n",
        "\n",
        "複数の説明変数を使い、より複雑な分布にフィットできるモデルを使うことでより精度は上がります。\n",
        "次はすべての変数を使って住宅価格をいていきます。"
      ]
    },
    {
      "cell_type": "markdown",
      "metadata": {
        "id": "J6zSAJ7KqAvQ",
        "colab_type": "text"
      },
      "source": [
        "<h3>・データの確認</h3>"
      ]
    },
    {
      "cell_type": "code",
      "metadata": {
        "id": "jAxH8z1FqEFJ",
        "colab_type": "code",
        "colab": {
          "base_uri": "https://localhost:8080/",
          "height": 51
        },
        "outputId": "523de4cb-7ff4-4ec0-8df6-b9d63b9012bd"
      },
      "source": [
        "#　データの確認\n",
        "print(\"変換前のデータ型は\", type(X))\n",
        "print(\"変換前の配列の大きさは\", X.shape)\n"
      ],
      "execution_count": 13,
      "outputs": [
        {
          "output_type": "stream",
          "text": [
            "変換前のデータ型は <class 'numpy.ndarray'>\n",
            "変換前の配列の大きさは (506, 13)\n"
          ],
          "name": "stdout"
        }
      ]
    },
    {
      "cell_type": "markdown",
      "metadata": {
        "id": "Qsin-6n9t1js",
        "colab_type": "text"
      },
      "source": [
        "<h3>・重回帰のモデルの学習</h3>"
      ]
    },
    {
      "cell_type": "code",
      "metadata": {
        "id": "ynHBY7rVsw28",
        "colab_type": "code",
        "colab": {
          "base_uri": "https://localhost:8080/",
          "height": 34
        },
        "outputId": "f24064f6-dee0-4930-fe7f-f4f66db8f05c"
      },
      "source": [
        "from sklearn.model_selection import train_test_split\n",
        "from sklearn.linear_model import LinearRegression\n",
        "\n",
        "# トレーニングデータとテストデータに分割\n",
        "X_train, X_test, y_train, y_test = train_test_split(X, y, test_size=0.3, random_state=0)\n",
        "\n",
        "# 学習するモデルの選択\n",
        "lr = LinearRegression() #線形モデル\n",
        "\n",
        "lr.fit(X_train, y_train) #モデルの学習\n"
      ],
      "execution_count": 24,
      "outputs": [
        {
          "output_type": "execute_result",
          "data": {
            "text/plain": [
              "LinearRegression(copy_X=True, fit_intercept=True, n_jobs=None, normalize=False)"
            ]
          },
          "metadata": {
            "tags": []
          },
          "execution_count": 24
        }
      ]
    },
    {
      "cell_type": "markdown",
      "metadata": {
        "id": "q0xjw0myt4Ud",
        "colab_type": "text"
      },
      "source": [
        "<h3>・データの分割による性能評価と重回帰の評価</h3>"
      ]
    },
    {
      "cell_type": "code",
      "metadata": {
        "id": "1VuW4OV1tuqL",
        "colab_type": "code",
        "colab": {
          "base_uri": "https://localhost:8080/",
          "height": 51
        },
        "outputId": "2344f942-a007-4432-b39e-d42719248a39"
      },
      "source": [
        "y_train_pred = lr.predict(X_train)\n",
        "y_test_pred = lr.predict(X_test)\n",
        "\n",
        "# 性能評価\n",
        "from math import sqrt\n",
        "from sklearn.metrics import mean_squared_error\n",
        "# 二乗平均平方根誤差(RMSE)を算出\n",
        "print('RMSE Test :' + str((sqrt(mean_squared_error(y_test, y_test_pred)))))\n",
        "# 学習用、検証用データに関してR^2を出力 (回帰モデルの場合score()を使うことで決定係数が得られます。)\n",
        "print('R^2 Train : %.3f, Test : %.3f' % (lr.score(X_train, y_train), lr.score(X_test, y_test)))"
      ],
      "execution_count": 25,
      "outputs": [
        {
          "output_type": "stream",
          "text": [
            "RMSE Test :5.214975145375423\n",
            "R^2 Train : 0.765, Test : 0.673\n"
          ],
          "name": "stdout"
        }
      ]
    },
    {
      "cell_type": "markdown",
      "metadata": {
        "id": "JzVw5xU0w8FY",
        "colab_type": "text"
      },
      "source": [
        "<h3>・残差プロット</h3>"
      ]
    },
    {
      "cell_type": "code",
      "metadata": {
        "id": "GBiG-_5uw33_",
        "colab_type": "code",
        "colab": {
          "base_uri": "https://localhost:8080/",
          "height": 295
        },
        "outputId": "f9069dcf-4673-403a-afda-4f1ad2695ae0"
      },
      "source": [
        "y_pred = lr.predict(X_test) # 検証データを用いて目的変数を予測\n",
        "\n",
        "plt.scatter(y_pred, y_pred - y_test, color = 'blue')      # 残差をプロット \n",
        "plt.hlines(y = 0, xmin = -10, xmax = 50, color = 'black') # x軸に沿った直線をプロット\n",
        "plt.title('Residual Plot')                                # 図のタイトル\n",
        "plt.xlabel('Predicted Values')                            # x軸のラベル\n",
        "plt.ylabel('Residuals')                                   # y軸のラベル\n",
        "plt.grid()                                                # グリッド線を表示\n",
        "\n",
        "plt.show()                                               # 図の表示"
      ],
      "execution_count": 26,
      "outputs": [
        {
          "output_type": "display_data",
          "data": {
            "image/png": "[encoded data removed]",
            "text/plain": [
              "<Figure size 432x288 with 1 Axes>"
            ]
          },
          "metadata": {
            "tags": [],
            "needs_background": "light"
          }
        }
      ]
    },
    {
      "cell_type": "markdown",
      "metadata": {
        "id": "aYH1Blp4ui2P",
        "colab_type": "text"
      },
      "source": [
        "単回帰に比べて、重回帰は精度が上がっているのが分かる<br>\n",
        "\n",
        "ただ、重回帰は予測するために必要なデータが増えるので、説明変数が膨大な場合、使いずらかったりする。\n",
        "また、データによっては学習の妨げになることがあるので、重回帰分析の際は、説明変数の組み合わせの最適化をする必要がある。"
      ]
    }
  ]
}
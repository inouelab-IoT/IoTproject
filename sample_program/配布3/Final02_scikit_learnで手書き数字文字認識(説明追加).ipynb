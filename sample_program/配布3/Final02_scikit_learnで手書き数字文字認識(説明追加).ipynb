{
  "nbformat": 4,
  "nbformat_minor": 0,
  "metadata": {
    "colab": {
      "name": "scikit_learnで手書き数字文字認識(説明追加) (1).ipynb",
      "provenance": []
    },
    "kernelspec": {
      "name": "python3",
      "display_name": "Python 3"
    }
  },
  "cells": [
    {
      "cell_type": "markdown",
      "metadata": {
        "id": "FnytF0EZF6Aq",
        "colab_type": "text"
      },
      "source": [
        "<h1><b>手書き数字文字の認識</b></h1>\n",
        "<p>実行内容</p>\n",
        "<ul>\n",
        "<li>モジュールのインポート</li>\n",
        "<li>手書き文字のデータセットの取得</li>\n",
        "<li>トレーニングデータとテストデータの割り当てと、学習モデル(SVM)の作成</li>\n",
        "<li>学習モデルのテスト</li>\n",
        "<ul>"
      ]
    },
    {
      "cell_type": "markdown",
      "metadata": {
        "id": "ci5gD6qBtGid",
        "colab_type": "text"
      },
      "source": [
        "<h3>サポートベクトル分類(SVM)の考え方</h3>\n",
        "<h5>マージン最大化とサポートベクトル</h5>\n",
        "<p>サポートベクトルマシンを理解するためには、名前の由来である「サポートベクトル」について理解する必要があります。</p>\n",
        "<p>サポートベクトルとは、先に説明したように「予測に必要となる一部のデータ」です。<br />\n",
        "では「予測に必要となる一部のデータ」はどのようにして決められるのでしょうか。<br />\n",
        "それを定めるのに「マージン最大化」と呼ばれる考え方を使います。</p>\n",
        "\n",
        "<p>\n",
        "マージンとは、「判別する境界とデータとの距離」を指します。<br />\n",
        "これが大きければ、「ほんの少しデータが変わっただけで誤判定してしまう」というミスをなくすことができます。<br />\n",
        "なお、境界線と最も近くにあるデータを「サポートベクトル」と呼びます。</p>\n",
        "<p><a onclick=\"javascript:pageTracker._trackPageview('/downloads/wp-content/uploads/2017/07/svm-7-intro.jpg');\"  href=\"https://logics-of-blue.com/wp-content/uploads/2017/07/svm-7-intro.jpg\"><img loading=\"lazy\" src=\"https://logics-of-blue.com/wp-content/uploads/2017/07/svm-7-intro-1024x576.jpg\" alt=\"\" width=\"640\" height=\"360\" class=\"alignnone size-large wp-image-1803\" srcset=\"https://logics-of-blue.com/wp-content/uploads/2017/07/svm-7-intro-1024x576.jpg 1024w, https://logics-of-blue.com/wp-content/uploads/2017/07/svm-7-intro-300x169.jpg 300w, https://logics-of-blue.com/wp-content/uploads/2017/07/svm-7-intro-768x432.jpg 768w, https://logics-of-blue.com/wp-content/uploads/2017/07/svm-7-intro.jpg 1280w\" sizes=\"(max-width: 640px) 100vw, 640px\" /></a></p>\n"
      ]
    },
    {
      "cell_type": "markdown",
      "metadata": {
        "id": "vdS1ooYI1ty-",
        "colab_type": "text"
      },
      "source": [
        "<h2>モジュールのインポート</h2>\n",
        "<p>このプログラムでは以下のライブラリを使用する。</p>\n",
        "<ul>\n",
        "  <li>sklearn <small>　- scikit-learnのライブラリ群</small></li>\n",
        "  <li>matplotlib <small>　- グラフ等の描画用のライブラリ</small></li>\n",
        "</ul>"
      ]
    },
    {
      "cell_type": "code",
      "metadata": {
        "id": "V36eQ0cYFwK_",
        "colab_type": "code",
        "colab": {}
      },
      "source": [
        "from sklearn.datasets import load_digits\n",
        "from sklearn import svm\n",
        "from sklearn import metrics\n",
        "import matplotlib.pyplot as plt"
      ],
      "execution_count": null,
      "outputs": []
    },
    {
      "cell_type": "markdown",
      "metadata": {
        "id": "wesmIaPC8OfX",
        "colab_type": "text"
      },
      "source": [
        "\n",
        "\n",
        "---\n",
        "\n"
      ]
    },
    {
      "cell_type": "markdown",
      "metadata": {
        "id": "BRuMZ6MTGBed",
        "colab_type": "text"
      },
      "source": [
        "<h2>手書き文字のデータセットの取得</h2>\n",
        "<p>ここでは、インポートしたデータセットからデータを取得している。<br>実行すると、データセットの中身を確認することができる。</p>"
      ]
    },
    {
      "cell_type": "code",
      "metadata": {
        "id": "tg3zhkjUF4--",
        "colab_type": "code",
        "colab": {}
      },
      "source": [
        "digits = load_digits()\n",
        "# digitsデータセットはdir()で調べることができます。\n",
        "print(dir(digits))\n",
        "print(digits.data)         # digitデータセットのdataの値を出力\n",
        "print(digits.data.shape)   # digitデータセットのdataの構造を出力 1797×64の2次元配列 (1797, 64)\n",
        "print(digits.target.shape) # digitデータセットのtargetの構造を出力　要素が1797個の1次元配列"
      ],
      "execution_count": null,
      "outputs": []
    },
    {
      "cell_type": "markdown",
      "metadata": {
        "id": "uNKp-jDsKqc-",
        "colab_type": "text"
      },
      "source": [
        "<p>ここで、データセット内の一つ目のデータを見てみる。中にはピクセルの色の濃度を16進数で表記したデータが、8×8=64ピクセル分の配列として格納されている。<br>出力された画像を見るとデータと画像が対応していることが分かる。<br>(右から左に確認すると、画像の黒さとデータの数値が対応している。)</p>"
      ]
    },
    {
      "cell_type": "code",
      "metadata": {
        "id": "HAJvPUulGq_2",
        "colab_type": "code",
        "colab": {}
      },
      "source": [
        "# 1行に64列の数字で1文字になる。\n",
        "print(len((digits.data[0]))) # 64 (64ピクセルというのは、は8×8ピクセルの16階調のグレイスケール画像）\n",
        "print((digits.data[0]))\n",
        "print(digits.data[0].shape) # 1次元 (64,)\n",
        "\n",
        "import numpy as np\n",
        "# numpyのreshape()を使って8×8に戻す\n",
        "img = np.reshape(digits.data[0], (8,8))\n",
        "\n",
        "# cmapにより色を指定可能です。\n",
        "# cmap=plt.cm.gray_rにより白黒で表現し、interpolationをnearestにすることで、最近傍補間という補完を行なっています。\n",
        "# 最近傍補間とは、画像を拡大・縮小・回転した際に利用する補間法の1つです。\n",
        "plt.imshow(img, cmap=plt.cm.gray_r, interpolation='nearest')\n",
        "# plt.imshow(digits.images[0], cmap=plt.cm.gray_r, interpolation='nearest')\n",
        "\n",
        "# 上記のcmap=の部分及び、interpolation=を消した下記でも動作します。比べてみてください。\n",
        "# plt.imshow(image)\n",
        "\n",
        "plt.axis('off')\n",
        "plt.show()"
      ],
      "execution_count": null,
      "outputs": []
    },
    {
      "cell_type": "markdown",
      "metadata": {
        "id": "WrLvP01PJVp1",
        "colab_type": "text"
      },
      "source": [
        "次のプログラムを実行すると、このデータセットに含まれているデータの数、10個目のデータセット（とそのラベル）が出力される。\n",
        "各数字のデータセットごとにそれぞれ特徴が異なることが分かる。"
      ]
    },
    {
      "cell_type": "code",
      "metadata": {
        "id": "-lefT-dLHOzH",
        "colab_type": "code",
        "colab": {}
      },
      "source": [
        "num = len(digits.data)\n",
        "print(\"num=\" + str(num)) \n",
        "\n",
        "# zip()にて複数リストの値を同時に取得しています。\n",
        "images_and_labels = list(zip(digits.images, digits.target))\n",
        "for index, (image, label) in enumerate(images_and_labels[:10]):\n",
        "    plt.subplot(2, 5, index + 1)\n",
        "    plt.axis('off')\n",
        "    plt.imshow(image, cmap=plt.cm.gray_r, interpolation='nearest')\n",
        "    plt.title('Training: %i' % label)\n",
        "plt.show()"
      ],
      "execution_count": null,
      "outputs": []
    },
    {
      "cell_type": "markdown",
      "metadata": {
        "id": "dZYjg0d18Ris",
        "colab_type": "text"
      },
      "source": [
        "\n",
        "\n",
        "---\n",
        "\n"
      ]
    },
    {
      "cell_type": "markdown",
      "metadata": {
        "id": "uWyWFXIsJ0Qc",
        "colab_type": "text"
      },
      "source": [
        "<h1>トレーニングデータとテストデータの割り当てと、学習モデル(SVM)の作成</h1>\n",
        "<p>今あるデータを、トレーニングを行うためのデータとテストを行うためのデータをそれぞれ割り振る。トレーニングデータとテストデータに分ける。<br>これは正しく認識出来るかのテストをする画像も残す必要があるので、2/3をトレーニング用の画像として利用する。\n",
        "<br><br></p>\n",
        "<p>使用するデータ数を決めたら、トレーニングデータによる学習モデル（SVM）の作成を行う。</p>"
      ]
    },
    {
      "cell_type": "code",
      "metadata": {
        "id": "SsNr3OS4Hlyg",
        "colab_type": "code",
        "colab": {}
      },
      "source": [
        "num = len(digits.data)\n",
        "training_num = int(num*2/3) \n",
        "print(\"training_num=\" + str(training_num))\n",
        "print(\"training_num_type:\" + str(type(training_num)))\n",
        "\n",
        "#トレーニングデータの取得\n",
        "train_data = digits.data[:training_num]\n",
        "train_target = digits.target[:training_num]\n",
        "\n",
        "#テストデータの取得\n",
        "test_data = digits.data[training_num:]\n",
        "test_target = digits.target[training_num:]\n",
        "\n",
        "# SVMによるモデルを作成します\n",
        "classifier = svm.SVC(gamma=0.001) # 引数の\"gamma\"というパラメータは、どれだけ複雑な決定境界を引くかのパラメータになっていますが、現時点で理解する必要はありません。\n",
        "\n",
        "classifier.fit(train_data, train_target)"
      ],
      "execution_count": null,
      "outputs": []
    },
    {
      "cell_type": "markdown",
      "metadata": {
        "id": "J0fPJEQ48UJP",
        "colab_type": "text"
      },
      "source": [
        "\n",
        "\n",
        "---\n",
        "\n"
      ]
    },
    {
      "cell_type": "markdown",
      "metadata": {
        "id": "JY2UbePEKOER",
        "colab_type": "text"
      },
      "source": [
        "<h1>学習モデルのテスト</h1>\n",
        "<p>テストデータをプログラムに処理させる。<br>実行するとPredict(推測)された数字と推測に使われたデータの画像、正解率が表示される。"
      ]
    },
    {
      "cell_type": "code",
      "metadata": {
        "id": "tnW5oM_XIWoc",
        "colab_type": "code",
        "colab": {}
      },
      "source": [
        "predicted = classifier.predict(test_data)\n",
        "\n",
        "images_and_predictions = list(zip(digits.images[training_num:], predicted))\n",
        "for index, (image, prediction) in enumerate(images_and_predictions[:10]):\n",
        "    plt.subplot(2, 5, index + 1)\n",
        "    plt.axis('off')\n",
        "    plt.imshow(image, cmap=plt.cm.gray_r, interpolation='nearest')\n",
        "    plt.title('Predic: %i' % prediction)\n",
        "plt.show()\n",
        "# 正解率　\n",
        "metrics.accuracy_score(test_target, predicted )"
      ],
      "execution_count": null,
      "outputs": []
    }
  ]
}